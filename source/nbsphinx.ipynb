{
 "cells": [
  {
   "cell_type": "markdown",
   "metadata": {},
   "source": [
    "# jupyter notebookを対応させる\n",
    "ここでは，jupyter notebookの形式で表示できるようにします．\n"
   ]
  },
  {
   "cell_type": "markdown",
   "metadata": {},
   "source": [
    "すること\n",
    "\n",
    "- nbsphinx のインストール\n",
    "- jupyter notebookの用意\n",
    "- conf.pyの設定\n",
    "- index.rstの設定\n"
   ]
  },
  {
   "cell_type": "markdown",
   "metadata": {},
   "source": [
    "## nbsphinx のインストール\n",
    "\n",
    "```\n",
    "pip install nbsphinx \n",
    "```\n",
    "\n",
    "**以上!!**"
   ]
  },
  {
   "cell_type": "markdown",
   "metadata": {},
   "source": [
    "## jupyter notebookの用意"
   ]
  },
  {
   "cell_type": "markdown",
   "metadata": {},
   "source": [
    "見せるためのnotebook を用意します.  \n",
    "**以上!!**"
   ]
  },
  {
   "cell_type": "markdown",
   "metadata": {},
   "source": [
    "## conf.pyの設定\n",
    "source ディレクトリ内にあるconf.py に以下の変更を加えます.\n",
    "\n",
    "\n",
    "``` py\n",
    "\n",
    "extensions = [ 'nbsphinx' ]\n",
    "exclude_patterns = [ '**.ipynb_checkpoints' ]\n",
    "```\n",
    "\n",
    "\n",
    "extensionsというリストに  ```'nbsphinx'``` を加えてください.  \n",
    "加えたら良いので, appendでもいいです.    \n",
    "**以上!!**\n",
    " "
   ]
  },
  {
   "cell_type": "markdown",
   "metadata": {},
   "source": [
    "## index\n",
    " source ディレクトリ内にある index.rstの設定に以下の変更を加えます. \n",
    " (preparation.ipynbを表示できるようにする)\n",
    " \n",
    "``` rst\n",
    "\n",
    "---------\n",
    "\n",
    ".. toctree::\n",
    "   :caption:\n",
    "\n",
    "   preparation\n",
    "```\n",
    " \n",
    " **以上!!**\n",
    " \n",
    " \n",
    " ***"
   ]
  },
  {
   "cell_type": "markdown",
   "metadata": {},
   "source": [
    "できたらpageをみてみましょう.  \n",
    "![pict1](./images/nbsphinx1.png)"
   ]
  },
  {
   "cell_type": "markdown",
   "metadata": {},
   "source": [
    "Contentsの項目が増えました.!!\n",
    "準備のリンクへ飛ぶと以下のようなnotebookを元としたpageに行きます.  \n",
    "![pict2](./images/nbsphinx2.png)"
   ]
  },
  {
   "cell_type": "markdown",
   "metadata": {},
   "source": [
    "## 参考\n",
    "- [nbsphinxnoのwebpage](https://nbsphinx.readthedocs.io/en/0.3.5/)"
   ]
  }
 ],
 "metadata": {
  "kernelspec": {
   "display_name": "Python 3",
   "language": "python",
   "name": "python3"
  },
  "language_info": {
   "codemirror_mode": {
    "name": "ipython",
    "version": 3
   },
   "file_extension": ".py",
   "mimetype": "text/x-python",
   "name": "python",
   "nbconvert_exporter": "python",
   "pygments_lexer": "ipython3",
   "version": "3.6.5"
  }
 },
 "nbformat": 4,
 "nbformat_minor": 2
}
